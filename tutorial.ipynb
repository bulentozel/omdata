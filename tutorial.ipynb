{
 "cells": [
  {
   "cell_type": "markdown",
   "metadata": {},
   "source": [
    "# Tuorial on json validation and json schema inspection via `omdata` package"
   ]
  },
  {
   "cell_type": "code",
   "execution_count": 1,
   "metadata": {
    "collapsed": true
   },
   "outputs": [],
   "source": [
    "import pprint as pp\n",
    "import json"
   ]
  },
  {
   "cell_type": "markdown",
   "metadata": {},
   "source": [
    "#### Pointers to sample json and schema files"
   ]
  },
  {
   "cell_type": "code",
   "execution_count": 2,
   "metadata": {
    "collapsed": true
   },
   "outputs": [],
   "source": [
    "schema_file = './data/samples/omsurvey.schema'\n",
    "survey_file = './data/samples/omsurvey.json'"
   ]
  },
  {
   "cell_type": "code",
   "execution_count": 3,
   "metadata": {
    "collapsed": true
   },
   "outputs": [],
   "source": [
    "with open(schema_file) as schema_fp:\n",
    "    om_schema = json.load(schema_fp)"
   ]
  },
  {
   "cell_type": "code",
   "execution_count": 4,
   "metadata": {
    "collapsed": true
   },
   "outputs": [],
   "source": [
    "#pp.pprint(om_schema,indent=0)"
   ]
  },
  {
   "cell_type": "code",
   "execution_count": 5,
   "metadata": {
    "collapsed": true
   },
   "outputs": [],
   "source": [
    "with open(survey_file) as survey_fp:\n",
    "    om_example = json.load(survey_fp)"
   ]
  },
  {
   "cell_type": "code",
   "execution_count": 6,
   "metadata": {
    "collapsed": true
   },
   "outputs": [],
   "source": [
    "#pp.pprint(om_example,indent=0)"
   ]
  },
  {
   "cell_type": "markdown",
   "metadata": {},
   "source": [
    "## Validation "
   ]
  },
  {
   "cell_type": "code",
   "execution_count": 7,
   "metadata": {
    "collapsed": true
   },
   "outputs": [],
   "source": [
    "from omdata import check_json, check_file"
   ]
  },
  {
   "cell_type": "code",
   "execution_count": 8,
   "metadata": {},
   "outputs": [
    {
     "name": "stdout",
     "output_type": "stream",
     "text": [
      "Help on function check_json in module omdata.validator:\n",
      "\n",
      "check_json(survey, schema)\n",
      "    The method checks validity of an input json against the schema.\n",
      "    \n",
      "    Args:\n",
      "        survey (:obj:`JSON`): A JSON object.\n",
      "        schema (:obj:`JSON`): A JSON schema.\n",
      "    \n",
      "    Returns:\n",
      "        (`bool`): Returns `True` when it is validated.\n",
      "\n"
     ]
    }
   ],
   "source": [
    "help(check_json)"
   ]
  },
  {
   "cell_type": "code",
   "execution_count": 9,
   "metadata": {},
   "outputs": [
    {
     "data": {
      "text/plain": [
       "True"
      ]
     },
     "execution_count": 9,
     "metadata": {},
     "output_type": "execute_result"
    }
   ],
   "source": [
    "check_json(om_example, om_schema)"
   ]
  },
  {
   "cell_type": "code",
   "execution_count": 10,
   "metadata": {},
   "outputs": [
    {
     "name": "stdout",
     "output_type": "stream",
     "text": [
      "Help on function check_file in module omdata.validator:\n",
      "\n",
      "check_file(survey_file, schema_file)\n",
      "    Given external files the method checks validity of an input json file\n",
      "        against the schema file.\n",
      "    \n",
      "    Args:\n",
      "        survey (:obj:`string`): A JSON data file.\n",
      "        schema (:obj:`string`): A JSON schema file.\n",
      "    \n",
      "    Returns:\n",
      "        (bool): True.\n",
      "\n"
     ]
    }
   ],
   "source": [
    "help(check_file)"
   ]
  },
  {
   "cell_type": "code",
   "execution_count": 11,
   "metadata": {},
   "outputs": [
    {
     "data": {
      "text/plain": [
       "True"
      ]
     },
     "execution_count": 11,
     "metadata": {},
     "output_type": "execute_result"
    }
   ],
   "source": [
    "check_file(survey_file, schema_file)"
   ]
  },
  {
   "cell_type": "markdown",
   "metadata": {},
   "source": [
    "## Inspecting a given json schema"
   ]
  },
  {
   "cell_type": "code",
   "execution_count": 12,
   "metadata": {
    "collapsed": true
   },
   "outputs": [],
   "source": [
    "from omdata import Schema, OMSchemaKeyError, OMSchemaUnknown\n",
    "from omdata import get_field_names"
   ]
  },
  {
   "cell_type": "markdown",
   "metadata": {},
   "source": [
    "### Retrieving paths to data fields "
   ]
  },
  {
   "cell_type": "code",
   "execution_count": 13,
   "metadata": {},
   "outputs": [
    {
     "data": {
      "text/plain": [
       "['/properties/id',\n",
       " '/properties/member_id',\n",
       " '/properties/name',\n",
       " '/properties/surname',\n",
       " '/properties/email',\n",
       " '/properties/linkedin',\n",
       " '/properties/twitter',\n",
       " '/properties/community affiliations/items/properties/name',\n",
       " '/properties/community affiliations/items/properties/city',\n",
       " '/properties/community affiliations/items/properties/country',\n",
       " '/properties/funding/properties/availability',\n",
       " '/properties/funding/properties/amount',\n",
       " '/properties/funding/properties/success rate',\n",
       " '/properties/profile/properties/domains/items',\n",
       " '/properties/profile/properties/categories/items',\n",
       " '/properties/profile/properties/technologies/items',\n",
       " '/properties/profile/properties/skills/items',\n",
       " '/properties/projects/properties/count',\n",
       " '/properties/projects/properties/indivudual',\n",
       " '/properties/projects/properties/team',\n",
       " '/properties/projects/properties/partners/items/properties/name',\n",
       " '/properties/projects/properties/partners/items/properties/surname',\n",
       " '/properties/projects/properties/partners/items/properties/email',\n",
       " '/properties/projects/properties/partners/items/properties/linkedin',\n",
       " '/properties/projects/properties/partners/items/properties/twitter',\n",
       " '/properties/projects/properties/domains/items',\n",
       " '/properties/projects/properties/categories/items',\n",
       " '/properties/projects/properties/technologies/items',\n",
       " '/properties/projects/properties/skills/items',\n",
       " '/properties/projects/properties/description',\n",
       " '/properties/behavior/properties/complementarity',\n",
       " '/properties/behavior/properties/similarity',\n",
       " '/properties/behavior/properties/locality',\n",
       " '/properties/behavior/properties/socialization',\n",
       " '/properties/behavior/properties/resemblance',\n",
       " '/properties/values/properties/power',\n",
       " '/properties/values/properties/achievement',\n",
       " '/properties/values/properties/hedonism',\n",
       " '/properties/values/properties/stimulation',\n",
       " '/properties/values/properties/selfdirection',\n",
       " '/properties/values/properties/universalism',\n",
       " '/properties/values/properties/benevolence',\n",
       " '/properties/values/properties/tradition',\n",
       " '/properties/values/properties/conformity',\n",
       " '/properties/values/properties/security']"
      ]
     },
     "execution_count": 13,
     "metadata": {},
     "output_type": "execute_result"
    }
   ],
   "source": [
    "get_field_names(om_schema)"
   ]
  },
  {
   "cell_type": "markdown",
   "metadata": {},
   "source": [
    "### Using the omdata.Schema object"
   ]
  },
  {
   "cell_type": "code",
   "execution_count": 14,
   "metadata": {},
   "outputs": [
    {
     "name": "stdout",
     "output_type": "stream",
     "text": [
      "Help on class Schema in module omdata.design:\n",
      "\n",
      "class Schema(builtins.object)\n",
      " |  A generic interface object for JSON Schemas of OpenMaker Project.\n",
      " |  \n",
      " |  Attributes:\n",
      " |      schema_file (:obj:`string`): A file path to a JSON schema file.\n",
      " |  \n",
      " |  Methods defined here:\n",
      " |  \n",
      " |  __init__(self, schema=None)\n",
      " |      The class constructor.\n",
      " |      \n",
      " |      Args:\n",
      " |          schema (:obj:`JSON`): A JSON object which describes the schema (default None).\n",
      " |  \n",
      " |  get_fields(self, schema=None, main_only=False)\n",
      " |      The method lists all of the fields of a given schema. It parses the entire \n",
      " |          schema in JSON format.\n",
      " |      \n",
      " |      Args:\n",
      " |          schema (:obj:`JSON`): A JSON object which describes the schema (default None).\n",
      " |          \n",
      " |      Returns:\n",
      " |          (:obj:`list` of :obj:`string`): list of field names.\n",
      " |  \n",
      " |  get_questionaire_matches(self)\n",
      " |      The method lists all of the fields of a given schema. It parses the entire \n",
      " |          schema in JSON format.\n",
      " |      \n",
      " |      Args:\n",
      " |          schema (:obj:`JSON`): A JSON object which describes the schema (default None).\n",
      " |          \n",
      " |      Returns:\n",
      " |          (:obj:`list` of :obj:`string`): list of field names.\n",
      " |  \n",
      " |  get_required_fields(self, schema=None)\n",
      " |      The method lists all the required fields of a given schema. It parses the entire \n",
      " |          schema in JSON format.\n",
      " |      \n",
      " |      Args:\n",
      " |          schema (:obj:`JSON`): A JSON object which describes the schema (default None).\n",
      " |          \n",
      " |      Returns:\n",
      " |          (:obj:`list` of :obj:`string`): list of field names.\n",
      " |  \n",
      " |  load(self, schema)\n",
      " |      The method loads a schema from a JSON object.\n",
      " |      \n",
      " |      Args:\n",
      " |          fname (:obj:`dict`): The JSON document in dictionary format.\n",
      " |          \n",
      " |      Returns:\n",
      " |          bool: True.\n",
      " |  \n",
      " |  load_from_file(self, fname)\n",
      " |      The method loads a schema from a file path to a JSON schema file.\n",
      " |      \n",
      " |      Args:\n",
      " |          fname (str): The file path.\n",
      " |          \n",
      " |      Returns:\n",
      " |          bool: True if successful, False otherwise.\n",
      " |      \n",
      " |      Raises:\n",
      " |          FileNotFoundError: Raised if a given file is not accessable.\n",
      " |  \n",
      " |  ----------------------------------------------------------------------\n",
      " |  Data descriptors defined here:\n",
      " |  \n",
      " |  __dict__\n",
      " |      dictionary for instance variables (if defined)\n",
      " |  \n",
      " |  __weakref__\n",
      " |      list of weak references to the object (if defined)\n",
      " |  \n",
      " |  ----------------------------------------------------------------------\n",
      " |  Data and other attributes defined here:\n",
      " |  \n",
      " |  schema_file = None\n",
      "\n"
     ]
    }
   ],
   "source": [
    "help(Schema)"
   ]
  },
  {
   "cell_type": "code",
   "execution_count": 15,
   "metadata": {
    "collapsed": true
   },
   "outputs": [],
   "source": [
    "S = Schema()"
   ]
  },
  {
   "cell_type": "code",
   "execution_count": 16,
   "metadata": {},
   "outputs": [
    {
     "data": {
      "text/plain": [
       "True"
      ]
     },
     "execution_count": 16,
     "metadata": {},
     "output_type": "execute_result"
    }
   ],
   "source": [
    "S.load(om_schema)"
   ]
  },
  {
   "cell_type": "code",
   "execution_count": 17,
   "metadata": {},
   "outputs": [
    {
     "data": {
      "text/plain": [
       "True"
      ]
     },
     "execution_count": 17,
     "metadata": {},
     "output_type": "execute_result"
    }
   ],
   "source": [
    "S.load_from_file(schema_file)"
   ]
  },
  {
   "cell_type": "markdown",
   "metadata": {},
   "source": [
    "**Note that** the schema to be inspected can be loaded either from a schema object a python `dict` or directly from a file."
   ]
  },
  {
   "cell_type": "markdown",
   "metadata": {},
   "source": [
    "### Checking top level fields"
   ]
  },
  {
   "cell_type": "code",
   "execution_count": 18,
   "metadata": {},
   "outputs": [
    {
     "data": {
      "text/plain": [
       "['id',\n",
       " 'member_id',\n",
       " 'name',\n",
       " 'surname',\n",
       " 'email',\n",
       " 'linkedin',\n",
       " 'twitter',\n",
       " 'community affiliations',\n",
       " 'funding',\n",
       " 'profile',\n",
       " 'projects',\n",
       " 'behavior',\n",
       " 'values']"
      ]
     },
     "execution_count": 18,
     "metadata": {},
     "output_type": "execute_result"
    }
   ],
   "source": [
    "S.get_fields(main_only = True)"
   ]
  },
  {
   "cell_type": "markdown",
   "metadata": {},
   "source": [
    "### Lsting all data fields including the nested ones\n",
    "Note that a field followed by an asterix `*` denotes that there might be a multiple of them. In other words the field itself is a Python `list` object."
   ]
  },
  {
   "cell_type": "code",
   "execution_count": 19,
   "metadata": {},
   "outputs": [
    {
     "data": {
      "text/plain": [
       "['id',\n",
       " 'member_id',\n",
       " 'name',\n",
       " 'surname',\n",
       " 'email',\n",
       " 'linkedin',\n",
       " 'twitter',\n",
       " 'community affiliations*.name',\n",
       " 'community affiliations*.city',\n",
       " 'community affiliations*.country',\n",
       " 'funding.availability',\n",
       " 'funding.amount',\n",
       " 'funding.success rate',\n",
       " 'profile.domains*',\n",
       " 'profile.categories*',\n",
       " 'profile.technologies*',\n",
       " 'profile.skills*',\n",
       " 'projects.count',\n",
       " 'projects.indivudual',\n",
       " 'projects.team',\n",
       " 'projects.partners*.name',\n",
       " 'projects.partners*.surname',\n",
       " 'projects.partners*.email',\n",
       " 'projects.partners*.linkedin',\n",
       " 'projects.partners*.twitter',\n",
       " 'projects.domains*',\n",
       " 'projects.categories*',\n",
       " 'projects.technologies*',\n",
       " 'projects.skills*',\n",
       " 'projects.description',\n",
       " 'behavior.complementarity',\n",
       " 'behavior.similarity',\n",
       " 'behavior.locality',\n",
       " 'behavior.socialization',\n",
       " 'behavior.resemblance',\n",
       " 'values.power',\n",
       " 'values.achievement',\n",
       " 'values.hedonism',\n",
       " 'values.stimulation',\n",
       " 'values.selfdirection',\n",
       " 'values.universalism',\n",
       " 'values.benevolence',\n",
       " 'values.tradition',\n",
       " 'values.conformity',\n",
       " 'values.security']"
      ]
     },
     "execution_count": 19,
     "metadata": {},
     "output_type": "execute_result"
    }
   ],
   "source": [
    "S.get_fields()"
   ]
  },
  {
   "cell_type": "markdown",
   "metadata": {},
   "source": [
    "### Checking required fields"
   ]
  },
  {
   "cell_type": "code",
   "execution_count": 20,
   "metadata": {},
   "outputs": [
    {
     "data": {
      "text/plain": [
       "['id',\n",
       " 'name',\n",
       " 'surname',\n",
       " 'email',\n",
       " 'community affiliations',\n",
       " 'funding',\n",
       " 'profile',\n",
       " 'projects',\n",
       " 'behavior']"
      ]
     },
     "execution_count": 20,
     "metadata": {},
     "output_type": "execute_result"
    }
   ],
   "source": [
    "S.get_required_fields()"
   ]
  },
  {
   "cell_type": "markdown",
   "metadata": {},
   "source": [
    "### Listing data field descriptions\n",
    "in this particular case where the JSON schema is designed for an OpenMaker survey, the description matches the corresponding questionaire items. In other words the source of data  where they are populted from."
   ]
  },
  {
   "cell_type": "code",
   "execution_count": 21,
   "metadata": {},
   "outputs": [
    {
     "data": {
      "text/plain": [
       "{'behavior.complementarity': '5.a',\n",
       " 'behavior.locality': '5.c',\n",
       " 'behavior.resemblance': '5.e',\n",
       " 'behavior.similarity': '5.b',\n",
       " 'behavior.socialization': '5.d',\n",
       " 'community affiliations*.city': '1.b',\n",
       " 'community affiliations*.country': '1.c',\n",
       " 'community affiliations*.name': '1.a',\n",
       " 'email': 'Email',\n",
       " 'funding.amount': '2.b',\n",
       " 'funding.availability': '2.a',\n",
       " 'funding.success rate': '2.c',\n",
       " 'id': 'Internal: The unique survey identifier.',\n",
       " 'linkedin': 'LinkedIn',\n",
       " 'member_id': 'Internal: The unique OpenMaker member ID.',\n",
       " 'name': 'Name',\n",
       " 'profile.categories*': '3.b',\n",
       " 'profile.domains*': '3.a',\n",
       " 'profile.skills*': '3.d',\n",
       " 'profile.technologies*': '3.c',\n",
       " 'projects.categories*': '4.c.ii',\n",
       " 'projects.count': '4.a',\n",
       " 'projects.description': '4.c.v',\n",
       " 'projects.domains*': '4.c.i',\n",
       " 'projects.indivudual': '4.a.i',\n",
       " 'projects.partners*.email': '4.b.iii',\n",
       " 'projects.partners*.linkedin': '4.b.iv',\n",
       " 'projects.partners*.name': '4.b.i',\n",
       " 'projects.partners*.surname': '4.b.ii',\n",
       " 'projects.partners*.twitter': '4.b.v',\n",
       " 'projects.skills*': '4.c.iv',\n",
       " 'projects.team': '4.a.ii',\n",
       " 'projects.technologies*': '4.c.iii',\n",
       " 'surname': 'Surname',\n",
       " 'twitter': 'Twitter',\n",
       " 'values.achievement': '6.b',\n",
       " 'values.benevolence': '6.g',\n",
       " 'values.conformity': '6.i',\n",
       " 'values.hedonism': '6.c',\n",
       " 'values.power': '6.a',\n",
       " 'values.security': '6.j',\n",
       " 'values.selfdirection': '6.e',\n",
       " 'values.stimulation': '6.d',\n",
       " 'values.tradition': '6.h',\n",
       " 'values.universalism': '6.f'}"
      ]
     },
     "execution_count": 21,
     "metadata": {},
     "output_type": "execute_result"
    }
   ],
   "source": [
    "S.get_questionaire_matches()"
   ]
  },
  {
   "cell_type": "code",
   "execution_count": null,
   "metadata": {
    "collapsed": true
   },
   "outputs": [],
   "source": []
  }
 ],
 "metadata": {
  "kernelspec": {
   "display_name": "Python 3",
   "language": "python",
   "name": "python3"
  },
  "language_info": {
   "codemirror_mode": {
    "name": "ipython",
    "version": 3
   },
   "file_extension": ".py",
   "mimetype": "text/x-python",
   "name": "python",
   "nbconvert_exporter": "python",
   "pygments_lexer": "ipython3",
   "version": "3.6.0"
  }
 },
 "nbformat": 4,
 "nbformat_minor": 2
}
